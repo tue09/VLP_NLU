{
  "cells": [
    {
      "cell_type": "markdown",
      "id": "cad38964-4989-4f22-b7cf-ae95bf759989",
      "metadata": {
        "id": "cad38964-4989-4f22-b7cf-ae95bf759989"
      },
      "source": [
        "# Evaluation"
      ]
    },
    {
      "cell_type": "code",
      "execution_count": 1,
      "id": "33b2c778-dda6-42f8-9dca-5c411eb392e2",
      "metadata": {
        "id": "33b2c778-dda6-42f8-9dca-5c411eb392e2"
      },
      "outputs": [],
      "source": [
        "import numpy as np\n",
        "import pandas as pd\n",
        "import matplotlib.pyplot as plt\n",
        "import os\n",
        "import regex as re"
      ]
    },
    {
      "cell_type": "code",
      "source": [
        "from google.colab import drive\n",
        "drive.mount('/content/drive')"
      ],
      "metadata": {
        "colab": {
          "base_uri": "https://localhost:8080/"
        },
        "id": "ZLm-krx8ECxx",
        "outputId": "f6642416-6f1d-45f4-e1cd-dd568a771ace"
      },
      "id": "ZLm-krx8ECxx",
      "execution_count": 16,
      "outputs": [
        {
          "output_type": "stream",
          "name": "stdout",
          "text": [
            "Drive already mounted at /content/drive; to attempt to forcibly remount, call drive.mount(\"/content/drive\", force_remount=True).\n"
          ]
        }
      ]
    },
    {
      "cell_type": "code",
      "source": [
        "!pwd"
      ],
      "metadata": {
        "colab": {
          "base_uri": "https://localhost:8080/"
        },
        "id": "lVSNzpR1GXeA",
        "outputId": "85c58d94-2320-4833-8e30-3c2b114de27d"
      },
      "id": "lVSNzpR1GXeA",
      "execution_count": 5,
      "outputs": [
        {
          "output_type": "stream",
          "name": "stdout",
          "text": [
            "/content\n"
          ]
        }
      ]
    },
    {
      "cell_type": "code",
      "execution_count": 38,
      "id": "5b44bcef-ab17-477f-bdac-a0674ee3b4de",
      "metadata": {
        "id": "5b44bcef-ab17-477f-bdac-a0674ee3b4de"
      },
      "outputs": [],
      "source": [
        "# Nhập dữ liệu\n",
        "with open('/content/drive/MyDrive/ViNLU/dev-results/seq.out', 'r', encoding= 'utf-8') as file:\n",
        "    out_lines = file.readlines()\n",
        "    file.close()\n",
        "\n",
        "with open('/content/drive/MyDrive/ViNLU/dev-results/seq.in', 'r', encoding= 'utf-8') as file:\n",
        "    in_lines = file.readlines()\n",
        "    file.close()\n",
        "\n",
        "with open('/content/drive/MyDrive/ViNLU/dev-results/label', 'r', encoding= 'utf-8') as file:\n",
        "    out_labels = file.readlines()\n",
        "    file.close()\n",
        "\n",
        "with open('/content/drive/MyDrive/ViNLU/dev-results/predict.out', 'r', encoding= 'utf-8') as file:\n",
        "    test_lines = file.readlines()\n",
        "    file.close()"
      ]
    },
    {
      "cell_type": "code",
      "execution_count": 27,
      "id": "d285c8f6-9e33-4687-a9e8-9d05826dfff2",
      "metadata": {
        "colab": {
          "base_uri": "https://localhost:8080/"
        },
        "id": "d285c8f6-9e33-4687-a9e8-9d05826dfff2",
        "outputId": "a0c38b06-244d-4f62-9af6-a72e315bf90f"
      },
      "outputs": [
        {
          "output_type": "execute_result",
          "data": {
            "text/plain": [
              "(392, 392)"
            ]
          },
          "metadata": {},
          "execution_count": 27
        }
      ],
      "source": [
        "# Số samples trong bộ test\n",
        "len(out_lines), len(test_lines)"
      ]
    },
    {
      "cell_type": "code",
      "execution_count": 40,
      "id": "09211ef3-e847-4df9-870f-017887fec63f",
      "metadata": {
        "id": "09211ef3-e847-4df9-870f-017887fec63f"
      },
      "outputs": [],
      "source": [
        "# Chuẩn hóa\n",
        "out_lines = [x.strip() for x in out_lines]\n",
        "in_lines = [x.strip() for x in in_lines]\n",
        "out_labels = [x.strip() for x in out_labels]\n",
        "test_lines = [x.strip() for x in test_lines]"
      ]
    },
    {
      "cell_type": "code",
      "execution_count": 29,
      "id": "a59a8007-f9a1-401a-9bc5-75b8eebca4e4",
      "metadata": {
        "colab": {
          "base_uri": "https://localhost:8080/",
          "height": 35
        },
        "id": "a59a8007-f9a1-401a-9bc5-75b8eebca4e4",
        "outputId": "65093208-900e-4f32-a570-4ca56507b44e"
      },
      "outputs": [
        {
          "output_type": "execute_result",
          "data": {
            "text/plain": [
              "'O O O O O B-devicedevice I-devicedevice'"
            ],
            "application/vnd.google.colaboratory.intrinsic+json": {
              "type": "string"
            }
          },
          "metadata": {},
          "execution_count": 29
        }
      ],
      "source": [
        "out_lines[0]"
      ]
    },
    {
      "cell_type": "code",
      "execution_count": 30,
      "id": "842ddce9-e592-4385-9ca3-6fcd60b20502",
      "metadata": {
        "colab": {
          "base_uri": "https://localhost:8080/",
          "height": 35
        },
        "id": "842ddce9-e592-4385-9ca3-6fcd60b20502",
        "outputId": "6bbb8834-1e03-4f4f-f3b4-c44451e10604"
      },
      "outputs": [
        {
          "output_type": "execute_result",
          "data": {
            "text/plain": [
              "'<smart.home.check.status> -> anh ơi thiết_bị là đầy_đủ [rgb:B-devicedevice] [4:I-devicedevice]'"
            ],
            "application/vnd.google.colaboratory.intrinsic+json": {
              "type": "string"
            }
          },
          "metadata": {},
          "execution_count": 30
        }
      ],
      "source": [
        "test_lines[0]"
      ]
    },
    {
      "cell_type": "code",
      "execution_count": 31,
      "id": "11905a79-eb57-47fe-8609-5a9e6eb6f168",
      "metadata": {
        "id": "11905a79-eb57-47fe-8609-5a9e6eb6f168"
      },
      "outputs": [],
      "source": [
        "# Chuyển định dạng\n",
        "def test2out(test_line):\n",
        "    words = test_line.split()\n",
        "    intent = words[0]\n",
        "    words = words[2:]\n",
        "    str = []\n",
        "    for word in words:\n",
        "        if word[0] != '[':\n",
        "            str.append('O')\n",
        "        else:\n",
        "            info = word[1:-1]\n",
        "            str.append(info.split(':')[-1])\n",
        "    slots = ' '.join(str)\n",
        "    return intent[1:-1], slots"
      ]
    },
    {
      "cell_type": "markdown",
      "source": [
        "## Khảo sát intent"
      ],
      "metadata": {
        "id": "YzHVcjWWHVXl"
      },
      "id": "YzHVcjWWHVXl"
    },
    {
      "cell_type": "code",
      "source": [
        "# Kiểm tra\n",
        "intent, slots = test2out(test_lines[0])\n",
        "intent, out_labels[0]"
      ],
      "metadata": {
        "colab": {
          "base_uri": "https://localhost:8080/"
        },
        "id": "yASGWhssHby8",
        "outputId": "2af041cb-dc38-4326-ea03-83f691b3c944"
      },
      "id": "yASGWhssHby8",
      "execution_count": 32,
      "outputs": [
        {
          "output_type": "execute_result",
          "data": {
            "text/plain": [
              "('smart.home.check.status', 'smart.home.decrease.percentage')"
            ]
          },
          "metadata": {},
          "execution_count": 32
        }
      ]
    },
    {
      "cell_type": "code",
      "source": [
        "diff_ids = []\n",
        "for i in range(len(test_lines)):\n",
        "  label, gt_label = test2out(test_lines[i])[0], out_labels[i]\n",
        "  if label != gt_label:\n",
        "    diff_ids.append(i)\n",
        "\n",
        "print(len(diff_ids))"
      ],
      "metadata": {
        "colab": {
          "base_uri": "https://localhost:8080/"
        },
        "id": "CwI7HNAKIheg",
        "outputId": "db3b8855-e46f-4c2e-b66e-771ce0320339"
      },
      "id": "CwI7HNAKIheg",
      "execution_count": 35,
      "outputs": [
        {
          "output_type": "stream",
          "name": "stdout",
          "text": [
            "61\n"
          ]
        }
      ]
    },
    {
      "cell_type": "code",
      "source": [
        "# Các lỗi gặp phải\n",
        "diffs = []\n",
        "for i in diff_ids:\n",
        "  label, gt_label = test2out(test_lines[i])[0], out_labels[i]\n",
        "  diffs.append(f'{label}||{gt_label}')\n",
        "\n",
        "diffs = {i:diffs.count(i) for i in set(diffs)}\n",
        "diffs = dict(sorted(diffs.items(), key=lambda item: -item[1]))\n",
        "diffs # test||out"
      ],
      "metadata": {
        "colab": {
          "base_uri": "https://localhost:8080/"
        },
        "id": "ZC7F8-fXLNgC",
        "outputId": "53675b67-fbc4-4a00-d40f-ab4bfc58ebce"
      },
      "id": "ZC7F8-fXLNgC",
      "execution_count": 37,
      "outputs": [
        {
          "output_type": "execute_result",
          "data": {
            "text/plain": [
              "{'smart.home.decrease.level||smart.home.decrease.percentage': 12,\n",
              " 'smart.home.set.level||smart.home.set.percentage': 11,\n",
              " 'smart.home.check.status||smart.home.decrease.percentage': 10,\n",
              " 'smart.home.device.onoff||smart.home.set.level': 6,\n",
              " 'smart.home.set.level||smart.home.check.status': 5,\n",
              " 'smart.home.check.status||smart.home.increase.percentage': 5,\n",
              " 'smart.home.increase.level||smart.home.decrease.level': 5,\n",
              " 'smart.home.device.onoff||smart.home.set.percentage': 4,\n",
              " 'smart.home.increase.percentage||smart.home.device.onoff': 2,\n",
              " 'smart.home.set.percentage||smart.home.device.onoff': 1}"
            ]
          },
          "metadata": {},
          "execution_count": 37
        }
      ]
    },
    {
      "cell_type": "code",
      "source": [
        "# Các câu chứa lỗi intent\n",
        "[in_lines[i] for i in diff_ids]"
      ],
      "metadata": {
        "colab": {
          "base_uri": "https://localhost:8080/"
        },
        "id": "g3SUSHDHMUVK",
        "outputId": "2b5894b1-3d2f-4948-f7ee-ee77b7d90bb9"
      },
      "id": "g3SUSHDHMUVK",
      "execution_count": 44,
      "outputs": [
        {
          "output_type": "execute_result",
          "data": {
            "text/plain": [
              "['anh ơi thiết_bị là đầy_đủ rgb 4',\n",
              " 'chào giảm giúp tôi đèn hoa trong phòng con',\n",
              " 'tôi muốn giảm độ sáng của đèn ngủ 2',\n",
              " 'tôi muốn giảm độ sáng của bóng hoa 2',\n",
              " 'chào bạn kiểm_soát được điện ở vườn sau 2 trong nhà không',\n",
              " 'tôi muốn giảm độ sáng của kịch_bản 3',\n",
              " 'chào bạn kiểm_soát được bóng compact thứ 4 ở phòng ông_bà 4 trong nhà không',\n",
              " 'chào bạn kiểm_soát được đèn sân 3 ở phòng ăn 3 trong nhà không',\n",
              " 'giúp tui giảm thiết_bị đèn bàn thứ 3',\n",
              " 'giúp tui giảm thiết_bị rèm ngang',\n",
              " 'anh ơi thiết_bị là đầy_đủ màn cửa đơn',\n",
              " 'chào bạn kiểm_soát được bóng downlight 2 ở phòng ngủ con trai 5 trong nhà không',\n",
              " 'anh ơi thiết_bị là đầy_đủ quạt_treo_tường 3',\n",
              " 'giúp tui giảm thiết_bị downlight 1',\n",
              " 'giúp tui giảm thiết_bị cột đèn 3',\n",
              " 'chào giảm giúp tôi màn cửa đơn 4 trong tủ giữ đồ 3',\n",
              " 'chào bạn kiểm_soát được quạt hút mùi thứ 1 ở garage trong nhà không',\n",
              " 'giúp tui giảm thiết_bị máy_lạnh thứ 3',\n",
              " 'anh ơi thiết_bị là đầy_đủ đèn tranh 1',\n",
              " 'anh ơi thiết_bị là đầy_đủ bóng sân 3',\n",
              " 'tôi muốn giảm độ sáng của bóng sưởi',\n",
              " 'tôi muốn giảm độ sáng của bóng tuýp',\n",
              " 'bạn chỉnh giúp kiểm_tra màn cuốn thứ 1 ở phòng họp gia_đình xem bật không nhé',\n",
              " 'bạn chỉnh giúp kiểm_tra đèn sân thứ 4 ở hè sau 5 xem bật không nhé',\n",
              " 'bạn chỉnh giúp kiểm_tra loa còi ở phòng sách 1 xem bật không nhé',\n",
              " 'bạn chỉnh giúp kiểm_tra bóng trang_trí thứ 2 ở quầy lễ_tân xem bật không nhé',\n",
              " 'bạn chỉnh giúp kiểm_tra đèn nhiều màu 3 ở gara xem bật không nhé',\n",
              " 'chào bạn bạn có_thể đặt giúp mình cột đèn thứ 1 trong phòng trẻ_em được không',\n",
              " 'tôi muốn bật đèn tranh 4 ở phòng giám_đốc',\n",
              " 'tôi muốn đặt bóng ngủ 1 ở phòng hội_nghị',\n",
              " 'chào bạn bạn có_thể bật giúp mình động_cơ trong phòng nghỉ_ngơi 3 được không',\n",
              " 'mình nhờ bạn cài_đặt thiết_bị đèn_chùm thứ 2 ở gara 1 nhé',\n",
              " 'chào bạn bạn có_thể đặt giúp mình đèn sưởi thứ 4 trong phòng khách được không',\n",
              " 'hãy cài_đặt flash trong phòng ăn tối 5',\n",
              " 'mình nhờ bạn cài_đặt thiết_bị đèn_lồng thứ 3 ở đầu hè 4 nhé',\n",
              " 'hãy đặt bóng compact trong phòng hội_nghị 5',\n",
              " 'tôi muốn đặt bình_nóng_lạnh 2 ở sảnh 3',\n",
              " 'tôi muốn mở mành 3 ở phòng dành cho nữ',\n",
              " 'chào bạn bạn có_thể cài_đặt giúp mình đèn cây 1 trong hè sau được không',\n",
              " 'hãy cài_đặt bình_nóng_lạnh 2 trong room',\n",
              " 'tôi muốn bật tivi ở hiên sau',\n",
              " 'chào bạn bạn có_thể cài_đặt giúp mình bóng tiết_kiệm điện 3 trong gara được không',\n",
              " 'device đèn cây thứ 3',\n",
              " 'device bóng vườn',\n",
              " 'device bóng để bàn',\n",
              " 'device đèn_lồng 1',\n",
              " 'device đèn rủ 1',\n",
              " 'tiếp_tục hạ thấp bóng ngủ thứ 2 thêm 1 mức nữa',\n",
              " 'tiếp_tục giảm đi đèn sân thêm 2 mức nữa',\n",
              " 'tiếp_tục giảm đi đèn trần thêm 1 mức nữa',\n",
              " 'tiếp_tục hạ thấp bóng 1 thêm 3 mức nữa',\n",
              " 'tiếp_tục giảm bóng sợi đốt thêm 3 mức nữa',\n",
              " 'bật giúp mình đèn âm trần thứ 3 với',\n",
              " 'bật giúp mình bóng đứng thứ 2 với',\n",
              " 'bật giúp mình bóng led 3 với',\n",
              " 'bật giúp mình mành thứ 3 với',\n",
              " 'bật giúp mình đèn với',\n",
              " 'chào bạn bạn bật giúp mình loa còi ở nhà_bếp được không ạ',\n",
              " 'bật đèn tranh thứ 3 đi cái',\n",
              " 'bật mành đôi thứ 3 đi cái',\n",
              " 'alo tôi muốn bật bòng hắt trần nhé']"
            ]
          },
          "metadata": {},
          "execution_count": 44
        }
      ]
    },
    {
      "cell_type": "markdown",
      "source": [
        "### Khảo sát intent logits"
      ],
      "metadata": {
        "id": "xv0VRvhtOVdb"
      },
      "id": "xv0VRvhtOVdb"
    },
    {
      "cell_type": "code",
      "source": [
        "# Load logits\n",
        "intent_logits = np.loadtxt('/content/drive/MyDrive/ViNLU/dev-results/intent_logits.txt')\n",
        "intent_logits.shape"
      ],
      "metadata": {
        "colab": {
          "base_uri": "https://localhost:8080/"
        },
        "id": "LtZ4iauDOT2T",
        "outputId": "241d202b-b6f9-4c08-de5d-ccbec4ee52d0"
      },
      "id": "LtZ4iauDOT2T",
      "execution_count": 48,
      "outputs": [
        {
          "output_type": "execute_result",
          "data": {
            "text/plain": [
              "(392, 10)"
            ]
          },
          "metadata": {},
          "execution_count": 48
        }
      ]
    },
    {
      "cell_type": "code",
      "source": [
        "# Confidence\n",
        "confidences = np.max(intent_logits, axis= 1)\n",
        "np.array(sorted(confidences)[:45]) # Đặt threshold = 0.98"
      ],
      "metadata": {
        "colab": {
          "base_uri": "https://localhost:8080/"
        },
        "id": "DSAo67IRRH6K",
        "outputId": "00afcae8-08cb-4b2c-fb63-0fede523fbb4"
      },
      "id": "DSAo67IRRH6K",
      "execution_count": 57,
      "outputs": [
        {
          "output_type": "execute_result",
          "data": {
            "text/plain": [
              "array([0.51555061, 0.60156488, 0.67853969, 0.68383741, 0.68993062,\n",
              "       0.69622463, 0.70404553, 0.75817531, 0.76219338, 0.76570511,\n",
              "       0.77415633, 0.79214472, 0.8672868 , 0.87057364, 0.88746619,\n",
              "       0.9003073 , 0.9052797 , 0.91257495, 0.92285335, 0.94513863,\n",
              "       0.95795619, 0.9581756 , 0.9675647 , 0.97845459, 0.98006368,\n",
              "       0.98016351, 0.98197168, 0.98262089, 0.98355228, 0.98486996,\n",
              "       0.98922276, 0.98977029, 0.99045813, 0.99081087, 0.99288952,\n",
              "       0.99324495, 0.99389333, 0.9940573 , 0.99452221, 0.99484926,\n",
              "       0.9954052 , 0.99581665, 0.99582219, 0.9958747 , 0.9964065 ])"
            ]
          },
          "metadata": {},
          "execution_count": 57
        }
      ]
    },
    {
      "cell_type": "code",
      "source": [
        "hard_ids = []\n",
        "for i in range(intent_logits.shape[0]):\n",
        "  if i in diff_ids:\n",
        "    continue\n",
        "  if confidences[i] < 0.98:\n",
        "    hard_ids.append(i)\n",
        "\n",
        "hard_ids = sorted(hard_ids, key= lambda x:confidences[x])\n",
        "for id in hard_ids:\n",
        "  print(id, confidences[id], out_labels[id])"
      ],
      "metadata": {
        "colab": {
          "base_uri": "https://localhost:8080/"
        },
        "id": "TI7hnVzUS1lL",
        "outputId": "bbe282f9-2b66-4f35-98ab-cf57f5dc5e50"
      },
      "id": "TI7hnVzUS1lL",
      "execution_count": 68,
      "outputs": [
        {
          "output_type": "stream",
          "name": "stdout",
          "text": [
            "310 0.5155506134033203 smart.home.set.level\n",
            "30 0.6785396933555603 smart.home.decrease.percentage\n",
            "341 0.6838374137878418 smart.home.device.onoff\n",
            "42 0.6899306178092957 smart.home.decrease.percentage\n",
            "13 0.7040455341339111 smart.home.decrease.percentage\n",
            "178 0.8705736398696899 smart.home.set.percentage\n",
            "381 0.900307297706604 smart.home.device.onoff\n",
            "173 0.9125749468803406 smart.home.set.percentage\n",
            "321 0.9228533506393433 smart.home.set.level\n",
            "179 0.9451386332511902 smart.home.set.percentage\n",
            "370 0.9579561948776245 smart.home.device.onoff\n"
          ]
        }
      ]
    },
    {
      "cell_type": "code",
      "source": [
        "# Các câu model dự đoán ĐÚNG nhưng intent confidence THẤP. Các câu được sắp xếp theo thứ tự confidences tăng dần\n",
        "[in_lines[i] for i in hard_ids]"
      ],
      "metadata": {
        "colab": {
          "base_uri": "https://localhost:8080/"
        },
        "id": "I50hWjCsTxuN",
        "outputId": "e655f751-cf7a-4525-e53f-2d8730382f17"
      },
      "id": "I50hWjCsTxuN",
      "execution_count": 62,
      "outputs": [
        {
          "output_type": "execute_result",
          "data": {
            "text/plain": [
              "['bạn đặt hộ mình đèn cổng lên với',\n",
              " 'chào giảm giúp tôi bòng hắt trần thứ 4 trong phòng nghỉ 4',\n",
              " 'bật rèm cửa đi cái',\n",
              " 'chào giảm giúp tôi đèn nhiều màu 1 trong phòng ông chủ 5',\n",
              " 'chào giảm giúp tôi đèn trong phòng nữ',\n",
              " 'mình nhờ bạn mở thiết_bị bóng âm trần 1 ở cửa_hàng nhé',\n",
              " 'giúp tôi bật cái đèn sắc_màu nhé',\n",
              " 'hãy đóng đèn cổng 2 trong phòng',\n",
              " 'bạn cài_đặt hộ mình đèn ốp tường lên với',\n",
              " 'hãy đóng bóng thờ thứ 3 trong nhà_tắm 1',\n",
              " 'giúp tôi bật cái bóng trụ cổng 1 nhé']"
            ]
          },
          "metadata": {},
          "execution_count": 62
        }
      ]
    },
    {
      "cell_type": "markdown",
      "source": [
        "## Khảo sát slot filling"
      ],
      "metadata": {
        "id": "UGTTtFgCHQX4"
      },
      "id": "UGTTtFgCHQX4"
    },
    {
      "cell_type": "code",
      "execution_count": 63,
      "id": "6d850d97-86c5-4ac2-b59b-fba91a58aa44",
      "metadata": {
        "colab": {
          "base_uri": "https://localhost:8080/",
          "height": 35
        },
        "id": "6d850d97-86c5-4ac2-b59b-fba91a58aa44",
        "outputId": "780f41a8-bed9-48e8-c4c0-6fc252137ee2"
      },
      "outputs": [
        {
          "output_type": "execute_result",
          "data": {
            "text/plain": [
              "'O O O O O B-devicedevice I-devicedevice'"
            ],
            "application/vnd.google.colaboratory.intrinsic+json": {
              "type": "string"
            }
          },
          "metadata": {},
          "execution_count": 63
        }
      ],
      "source": [
        "# Kiểm tra\n",
        "intent, slots = test2out(test_lines[0])\n",
        "slots"
      ]
    },
    {
      "cell_type": "code",
      "execution_count": 64,
      "id": "44360107-488e-4ad3-9f80-29454df63cb6",
      "metadata": {
        "colab": {
          "base_uri": "https://localhost:8080/",
          "height": 35
        },
        "id": "44360107-488e-4ad3-9f80-29454df63cb6",
        "outputId": "0a890f9a-f14b-4e07-d1a1-7b971aa188fc"
      },
      "outputs": [
        {
          "output_type": "execute_result",
          "data": {
            "text/plain": [
              "'O O O O O B-devicedevice I-devicedevice'"
            ],
            "application/vnd.google.colaboratory.intrinsic+json": {
              "type": "string"
            }
          },
          "metadata": {},
          "execution_count": 64
        }
      ],
      "source": [
        "out_lines[0]"
      ]
    },
    {
      "cell_type": "code",
      "execution_count": 76,
      "id": "ab685da3-7925-4ef0-b1be-b6d4f3a724c9",
      "metadata": {
        "colab": {
          "base_uri": "https://localhost:8080/"
        },
        "id": "ab685da3-7925-4ef0-b1be-b6d4f3a724c9",
        "outputId": "c2025509-e218-4498-90a6-39bafc96dc02"
      },
      "outputs": [
        {
          "output_type": "execute_result",
          "data": {
            "text/plain": [
              "['id||output||ground_truth\\n',\n",
              " '6||O O O O B-devicedevice O B-roomroom I-roomroom I-roomroom O B-roomroom O||O O O O B-devicedevice O B-roomroom I-roomroom I-roomroom O O O',\n",
              " '8||O O O O B-devicedevice I-devicedevice I-devicedevice I-devicedevice O B-roomroom I-roomroom I-roomroom O B-roomroom O||O O O O B-devicedevice I-devicedevice I-devicedevice I-devicedevice O B-roomroom I-roomroom I-roomroom O O O',\n",
              " '10||O O O O B-devicedevice I-devicedevice I-devicedevice O B-roomroom I-roomroom I-roomroom O B-roomroom O||O O O O B-devicedevice I-devicedevice I-devicedevice O B-roomroom I-roomroom I-roomroom O O O',\n",
              " '15||O B-commandcommand I-commandcommand O B-devicedevice I-devicedevice I-devicedevice B-final-valuesyspercentage I-final-valuesyspercentage O O||O B-commandcommand I-commandcommand O B-devicedevice I-devicedevice I-devicedevice B-change-valuesyspercentage I-change-valuesyspercentage O O',\n",
              " '20||O O O O B-devicedevice I-devicedevice I-devicedevice O B-roomroom I-roomroom I-roomroom I-roomroom I-roomroom O B-roomroom O||O O O O B-devicedevice I-devicedevice I-devicedevice O B-roomroom I-roomroom I-roomroom I-roomroom I-roomroom O O O',\n",
              " '26||O B-commandcommand I-commandcommand O B-devicedevice I-devicedevice B-final-valuesyspercentage I-final-valuesyspercentage O O||O B-commandcommand I-commandcommand O B-devicedevice I-devicedevice B-change-valuesyspercentage I-change-valuesyspercentage O O',\n",
              " '32||O B-commandcommand I-commandcommand B-devicedevice I-devicedevice B-change-valuesyspercentage I-change-valuesyspercentage O O||O B-commandcommand O B-devicedevice I-devicedevice B-change-valuesyspercentage I-change-valuesyspercentage O O',\n",
              " '34||O O O O B-devicedevice I-devicedevice I-devicedevice I-devicedevice I-devicedevice O B-roomroom O B-roomroom O||O O O O B-devicedevice I-devicedevice I-devicedevice I-devicedevice I-devicedevice O B-roomroom O O O',\n",
              " '46||O B-commandcommand O O B-devicedevice I-devicedevice I-devicedevice I-devicedevice O B-roomroom I-roomroom I-roomroom O O O O||O O O O B-devicedevice I-devicedevice I-devicedevice I-devicedevice O B-roomroom I-roomroom I-roomroom O O O O',\n",
              " '52||O B-commandcommand O O B-devicedevice I-devicedevice I-devicedevice I-devicedevice O B-roomroom I-roomroom I-roomroom O O O O||O O O O B-devicedevice I-devicedevice I-devicedevice I-devicedevice O B-roomroom I-roomroom I-roomroom O O O O',\n",
              " '60||B-devicedevice I-devicedevice I-devicedevice B-roomroom I-roomroom I-roomroom I-roomroom I-roomroom B-statusstatus I-statusstatus O||B-devicedevice I-devicedevice I-devicedevice B-roomroom I-roomroom I-roomroom I-roomroom I-roomroom B-statusstatus I-statusstatus B-commandcommand',\n",
              " '63||O B-commandcommand O O B-devicedevice I-devicedevice O B-roomroom I-roomroom I-roomroom O O O O||O O O O B-devicedevice I-devicedevice O B-roomroom I-roomroom I-roomroom O O O O',\n",
              " '69||B-devicedevice I-devicedevice B-roomroom I-roomroom I-roomroom B-statusstatus I-statusstatus O||B-devicedevice I-devicedevice B-roomroom I-roomroom I-roomroom B-statusstatus I-statusstatus B-commandcommand',\n",
              " '76||O B-commandcommand O O B-devicedevice I-devicedevice I-devicedevice I-devicedevice O B-roomroom I-roomroom O O O O||O O O O B-devicedevice I-devicedevice I-devicedevice I-devicedevice O B-roomroom I-roomroom O O O O',\n",
              " '80||B-devicedevice I-devicedevice I-devicedevice B-roomroom I-roomroom I-roomroom B-statusstatus I-statusstatus O O||B-devicedevice I-devicedevice I-devicedevice B-roomroom I-roomroom I-roomroom B-statusstatus I-statusstatus B-commandcommand I-commandcommand',\n",
              " '81||O B-commandcommand O O B-devicedevice I-devicedevice I-devicedevice I-devicedevice O B-roomroom O O O O||O O O O B-devicedevice I-devicedevice I-devicedevice I-devicedevice O B-roomroom O O O O',\n",
              " '87||B-devicedevice I-devicedevice I-devicedevice I-devicedevice I-devicedevice B-roomroom I-roomroom I-roomroom B-statusstatus I-statusstatus I-statusstatus I-statusstatus O||B-devicedevice I-devicedevice I-devicedevice I-devicedevice I-devicedevice B-roomroom I-roomroom I-roomroom B-statusstatus I-statusstatus I-statusstatus I-statusstatus B-commandcommand',\n",
              " '91||B-devicedevice I-devicedevice B-roomroom I-roomroom I-roomroom I-roomroom B-statusstatus I-statusstatus I-statusstatus||B-devicedevice I-devicedevice B-roomroom I-roomroom I-roomroom I-roomroom B-statusstatus I-statusstatus B-commandcommand',\n",
              " '104||O O B-commandcommand O O B-roomroom I-roomroom I-roomroom I-roomroom O O B-sysnumbersysnumber O O||O O B-commandcommand O O B-roomroom I-roomroom I-roomroom I-roomroom O O B-final-valuesysnumber O O',\n",
              " '111||O O O O O B-devicedevice I-devicedevice B-sysnumbersysnumber O O O O B-roomroom I-roomroom I-roomroom O||O O O O O B-devicedevice I-devicedevice I-devicedevice O O B-sysnumbersysnumber O B-roomroom I-roomroom I-roomroom O',\n",
              " '165||B-commandcommand B-devicedevice I-devicedevice I-devicedevice I-devicedevice B-roomroom I-roomroom I-roomroom B-final-valuesyspercentage I-final-valuesyspercentage||B-commandcommand B-devicedevice I-devicedevice I-devicedevice I-devicedevice O B-roomroom I-roomroom B-final-valuesyspercentage I-final-valuesyspercentage',\n",
              " '180||B-commandcommand I-commandcommand B-devicedevice I-devicedevice I-devicedevice O B-roomroom I-roomroom O B-change-valuesyspercentage I-change-valuesyspercentage||B-commandcommand I-commandcommand B-devicedevice I-devicedevice I-devicedevice O B-floornumberfloornumber I-floornumberfloornumber O B-change-valuesyspercentage I-change-valuesyspercentage',\n",
              " '181||O O O B-devicedevice O B-change-valuesyspercentage I-change-valuesyspercentage O O B-roomroom I-roomroom I-roomroom O||O O O B-devicedevice O B-change-valuesyspercentage I-change-valuesyspercentage O O B-roomroom I-roomroom B-floornumberfloornumber O',\n",
              " '187||B-commandcommand I-commandcommand B-devicedevice I-devicedevice I-devicedevice I-devicedevice I-devicedevice O B-roomroom I-roomroom O B-change-valuesyspercentage I-change-valuesyspercentage||B-commandcommand I-commandcommand B-devicedevice I-devicedevice I-devicedevice I-devicedevice I-devicedevice O B-floornumberfloornumber I-floornumberfloornumber O B-change-valuesyspercentage I-change-valuesyspercentage',\n",
              " '188||O O O B-devicedevice I-devicedevice I-devicedevice O B-change-valuesyspercentage I-change-valuesyspercentage O O B-roomroom I-roomroom O||O O O B-devicedevice I-devicedevice I-devicedevice O B-change-valuesyspercentage I-change-valuesyspercentage O O B-roomroom B-floornumberfloornumber O',\n",
              " '203||O O O B-devicedevice O B-change-valuesyspercentage I-change-valuesyspercentage O B-roomroom I-roomroom I-roomroom B-floornumberfloornumber O||O O O B-devicedevice O B-change-valuesyspercentage I-change-valuesyspercentage O O B-roomroom I-roomroom B-floornumberfloornumber O',\n",
              " '208||O O O O B-devicedevice I-devicedevice O B-roomroom I-roomroom I-roomroom O||O O O O B-devicedevice I-devicedevice O B-roomroom I-roomroom B-floornumberfloornumber O',\n",
              " '217||B-commandcommand I-commandcommand B-devicedevice I-devicedevice I-devicedevice B-roomroom B-floornumberfloornumber O B-change-valuesyspercentage I-change-valuesyspercentage||B-commandcommand I-commandcommand B-devicedevice I-devicedevice I-devicedevice O B-floornumberfloornumber O B-change-valuesyspercentage I-change-valuesyspercentage',\n",
              " '220||B-commandcommand B-commandcommand I-commandcommand B-devicedevice I-devicedevice I-devicedevice I-devicedevice O B-change-valuesysnumber O O||O B-commandcommand I-commandcommand B-devicedevice I-devicedevice I-devicedevice I-devicedevice O B-change-valuesysnumber O O',\n",
              " '223||B-commandcommand B-commandcommand I-commandcommand B-devicedevice I-devicedevice O B-change-valuesysnumber O O||O B-commandcommand I-commandcommand B-devicedevice I-devicedevice O B-change-valuesysnumber O O',\n",
              " '227||O O O O O O O B-devicedevice I-devicedevice I-devicedevice I-devicedevice I-devicedevice O O B-sysnumbersysnumber O O||O O O O O O O B-devicedevice I-devicedevice I-devicedevice I-devicedevice B-sysnumbersysnumber O O O O O',\n",
              " '230||O B-devicedevice I-devicedevice I-devicedevice O O O O O O||O B-devicedevice I-devicedevice I-devicedevice O O B-sysnumbersysnumber O O O',\n",
              " '233||B-commandcommand B-commandcommand I-commandcommand B-devicedevice I-devicedevice O B-change-valuesysnumber O O||O B-commandcommand I-commandcommand B-devicedevice I-devicedevice O B-change-valuesysnumber O O',\n",
              " '237||O B-devicedevice I-devicedevice I-devicedevice O O O O O O||O B-devicedevice I-devicedevice I-devicedevice O O B-sysnumbersysnumber O O O',\n",
              " '238||B-commandcommand B-devicedevice I-devicedevice O O B-sysnumbersysnumber O O O||O B-devicedevice I-devicedevice O O B-sysnumbersysnumber O O O',\n",
              " '240||O O O O O O O B-devicedevice I-devicedevice I-devicedevice B-sysnumbersysnumber O O B-sysnumbersysnumber O O||O O O O O O O B-devicedevice I-devicedevice I-devicedevice B-sysnumbersysnumber O O O O O',\n",
              " '244||O O O O O O O B-devicedevice I-devicedevice I-devicedevice B-sysnumbersysnumber O O B-sysnumbersysnumber O O||O O O O O O O B-devicedevice I-devicedevice I-devicedevice B-sysnumbersysnumber O O O O O',\n",
              " '246||B-commandcommand B-devicedevice I-devicedevice I-devicedevice O O B-sysnumbersysnumber O O O||O B-devicedevice I-devicedevice I-devicedevice O O B-sysnumbersysnumber O O O',\n",
              " '247||O O O O O O O B-devicedevice I-devicedevice I-devicedevice I-devicedevice B-sysnumbersysnumber O O B-sysnumbersysnumber O O||O O O O O O O B-devicedevice I-devicedevice I-devicedevice I-devicedevice B-sysnumbersysnumber O O O O O',\n",
              " '250||O O O O O O O B-devicedevice I-devicedevice I-devicedevice B-sysnumbersysnumber O O B-sysnumbersysnumber O O||O O O O O O O B-devicedevice I-devicedevice I-devicedevice B-sysnumbersysnumber O O O O O',\n",
              " '253||B-commandcommand B-commandcommand I-commandcommand B-devicedevice I-devicedevice O B-change-valuesysnumber O O||O B-commandcommand I-commandcommand B-devicedevice I-devicedevice O B-change-valuesysnumber O O',\n",
              " '254||B-commandcommand B-commandcommand B-devicedevice I-devicedevice I-devicedevice O B-change-valuesysnumber O O||O B-commandcommand B-devicedevice I-devicedevice I-devicedevice O B-change-valuesysnumber O O',\n",
              " '261||O B-commandcommand O B-devicedevice I-devicedevice I-devicedevice O B-colorcolor O O||O O O B-devicedevice I-devicedevice I-devicedevice O B-colorcolor O O',\n",
              " '263||O B-commandcommand O B-devicedevice I-devicedevice I-devicedevice I-devicedevice O B-colorcolor I-colorcolor O O||O O O B-devicedevice I-devicedevice I-devicedevice I-devicedevice O B-colorcolor I-colorcolor O O',\n",
              " '264||O B-commandcommand O B-devicedevice I-devicedevice I-devicedevice O B-colorcolor O O||O O O B-devicedevice I-devicedevice I-devicedevice O B-colorcolor O O',\n",
              " '267||O B-devicedevice I-devicedevice I-devicedevice B-colorcolor I-colorcolor||O B-devicedevice I-devicedevice I-devicedevice O B-colorcolor',\n",
              " '269||B-commandcommand B-devicedevice I-devicedevice I-devicedevice B-colorcolor I-colorcolor||O B-devicedevice I-devicedevice I-devicedevice O B-colorcolor',\n",
              " '271||O O O O O O O B-devicedevice I-devicedevice I-devicedevice I-devicedevice O B-roomroom O O||O O O O B-commandcommand O O B-devicedevice I-devicedevice I-devicedevice I-devicedevice O B-roomroom O O',\n",
              " '274||B-commandcommand I-commandcommand B-allall B-devicedevice I-devicedevice I-devicedevice O B-colorcolor||B-commandcommand I-commandcommand B-allall B-devicedevice I-devicedevice I-devicedevice B-colorcolor I-colorcolor',\n",
              " '278||O B-commandcommand O B-devicedevice I-devicedevice I-devicedevice I-devicedevice O B-colorcolor I-colorcolor I-colorcolor O O||O O O B-devicedevice I-devicedevice I-devicedevice I-devicedevice O B-colorcolor I-colorcolor I-colorcolor O O',\n",
              " '281||B-commandcommand B-devicedevice I-devicedevice I-devicedevice I-devicedevice O B-colorcolor I-colorcolor||O B-devicedevice I-devicedevice I-devicedevice I-devicedevice O B-colorcolor I-colorcolor',\n",
              " '284||B-commandcommand B-devicedevice I-devicedevice I-devicedevice I-devicedevice O B-colorcolor I-colorcolor||O B-devicedevice I-devicedevice I-devicedevice I-devicedevice O B-colorcolor I-colorcolor',\n",
              " '289||O B-commandcommand O B-devicedevice I-devicedevice O B-colorcolor I-colorcolor O O||O O O B-devicedevice I-devicedevice O B-colorcolor I-colorcolor O O',\n",
              " '298||B-commandcommand B-devicedevice I-devicedevice I-devicedevice O B-colorcolor I-colorcolor||O B-devicedevice I-devicedevice I-devicedevice O B-colorcolor I-colorcolor',\n",
              " '300||B-commandcommand O O B-devicedevice I-devicedevice I-devicedevice I-devicedevice I-devicedevice O||O O O B-devicedevice I-devicedevice I-devicedevice I-devicedevice I-devicedevice O',\n",
              " '304||B-commandcommand B-devicedevice I-devicedevice O B-roomroom O O B-final-valuesysnumber||B-commandcommand B-devicedevice I-devicedevice O B-roomroom O O B-sysnumbersysnumber',\n",
              " '317||B-commandcommand O O B-devicedevice I-devicedevice I-devicedevice I-devicedevice O||O O O B-devicedevice I-devicedevice I-devicedevice I-devicedevice O',\n",
              " '320||B-commandcommand O O B-devicedevice I-devicedevice I-devicedevice O||O O O B-devicedevice I-devicedevice I-devicedevice O',\n",
              " '322||B-commandcommand O O B-devicedevice I-devicedevice I-devicedevice O||O O O B-devicedevice I-devicedevice I-devicedevice O',\n",
              " '324||B-commandcommand O O B-devicedevice O||O O O B-devicedevice O',\n",
              " '336||B-devicedevice I-devicedevice I-devicedevice O B-roomroom I-roomroom O B-final-valuesysnumber||B-devicedevice I-devicedevice I-devicedevice O B-roomroom B-commandcommand O B-final-valuesysnumber',\n",
              " '355||O B-devicedevice I-devicedevice I-devicedevice I-devicedevice O O||B-commandcommand B-devicedevice I-devicedevice I-devicedevice I-devicedevice O O',\n",
              " '356||O O B-commandcommand B-devicedevice I-devicedevice I-devicedevice I-devicedevice||O O O B-devicedevice I-devicedevice I-devicedevice I-devicedevice',\n",
              " '357||O O B-commandcommand B-devicedevice||O O O B-devicedevice',\n",
              " '364||O O B-commandcommand B-devicedevice I-devicedevice||O O O B-devicedevice I-devicedevice',\n",
              " '366||O O B-commandcommand B-devicedevice I-devicedevice I-devicedevice||O O O B-devicedevice I-devicedevice I-devicedevice',\n",
              " '380||O O B-commandcommand B-devicedevice||O O O B-devicedevice']"
            ]
          },
          "metadata": {},
          "execution_count": 76
        }
      ],
      "source": [
        "# Ghi file\n",
        "outpath = 'slot_diff.txt'\n",
        "lines = ['id||seq_test||seq_out\\n']\n",
        "raw_lines = ['id||output||ground_truth\\n']\n",
        "\n",
        "for i in range(len(out_lines)):\n",
        "    intent, slots = test2out(test_lines[i])\n",
        "    if slots != out_lines[i]:\n",
        "        lines.append('||'.join([str(i), slots, out_lines[i]]) + '\\n')\n",
        "        raw_lines.append('||'.join([str(i), slots, out_lines[i]]))\n",
        "\n",
        "with open(outpath, 'w', encoding= 'utf-8') as file:\n",
        "    file.writelines(lines)\n",
        "    file.close()\n",
        "\n",
        "raw_lines"
      ]
    },
    {
      "cell_type": "code",
      "execution_count": 81,
      "id": "db059e98-8f2f-4f48-8fc8-099acdacd9bb",
      "metadata": {
        "colab": {
          "base_uri": "https://localhost:8080/"
        },
        "id": "db059e98-8f2f-4f48-8fc8-099acdacd9bb",
        "outputId": "377d8923-cf91-4740-c9c2-cd95d182e1d1"
      },
      "outputs": [
        {
          "output_type": "execute_result",
          "data": {
            "text/plain": [
              "{'B-commandcommand||O': 31,\n",
              " 'B-roomroom||O': 8,\n",
              " 'O||B-commandcommand': 6,\n",
              " 'B-sysnumbersysnumber||O': 5,\n",
              " 'I-roomroom||B-floornumberfloornumber': 3,\n",
              " 'O||B-sysnumbersysnumber': 3,\n",
              " 'I-roomroom||B-roomroom': 2,\n",
              " 'B-roomroom||B-floornumberfloornumber': 2,\n",
              " 'B-final-valuesyspercentage||B-change-valuesyspercentage': 2,\n",
              " 'B-colorcolor||O': 2,\n",
              " 'I-final-valuesyspercentage||I-change-valuesyspercentage': 2,\n",
              " 'I-colorcolor||B-colorcolor': 2,\n",
              " 'I-roomroom||I-floornumberfloornumber': 2,\n",
              " 'I-roomroom||B-commandcommand': 1,\n",
              " 'I-devicedevice||B-sysnumbersysnumber': 1,\n",
              " 'B-final-valuesysnumber||B-sysnumbersysnumber': 1,\n",
              " 'I-statusstatus||B-commandcommand': 1,\n",
              " 'O||B-colorcolor': 1,\n",
              " 'seq_test||seq_out': 1,\n",
              " 'O||I-commandcommand': 1,\n",
              " 'B-sysnumbersysnumber||I-devicedevice': 1,\n",
              " 'B-colorcolor||I-colorcolor': 1,\n",
              " 'I-commandcommand||O': 1,\n",
              " 'B-sysnumbersysnumber||B-final-valuesysnumber': 1}"
            ]
          },
          "metadata": {},
          "execution_count": 81
        }
      ],
      "source": [
        "# Các lỗi gặp phải\n",
        "diffs = []\n",
        "slot_diff_ids = []\n",
        "for t in range(len(lines)):\n",
        "    words = [x.strip() for x in lines[t].split('||')]\n",
        "    if words[0] != 'id':\n",
        "      id = int(words[0])\n",
        "      slot_diff_ids.append(id)\n",
        "\n",
        "    test = words[1].split()\n",
        "    out = words[2].split()\n",
        "\n",
        "    for i in range(len(test)):\n",
        "        if test[i] != out[i]:\n",
        "            diffs.append(f'{test[i]}||{out[i]}')\n",
        "\n",
        "diffs = {i:diffs.count(i) for i in set(diffs)}\n",
        "diffs = dict(sorted(diffs.items(), key=lambda item: -item[1]))\n",
        "diffs # test||out"
      ]
    },
    {
      "cell_type": "code",
      "source": [
        "# Các câu bị sai slot\n",
        "[in_lines[i] for i in slot_diff_ids]"
      ],
      "metadata": {
        "colab": {
          "base_uri": "https://localhost:8080/"
        },
        "id": "6Nl6e2O-WLxY",
        "outputId": "1f593f7b-ac1a-4a50-9ee1-5b4ec23be649"
      },
      "id": "6Nl6e2O-WLxY",
      "execution_count": 83,
      "outputs": [
        {
          "output_type": "execute_result",
          "data": {
            "text/plain": [
              "['chào bạn kiểm_soát được điện ở vườn sau 2 trong nhà không',\n",
              " 'chào bạn kiểm_soát được bóng compact thứ 4 ở phòng ông_bà 4 trong nhà không',\n",
              " 'chào bạn kiểm_soát được đèn sân 3 ở phòng ăn 3 trong nhà không',\n",
              " 'làm_ơn hạ thấp đỡ bóng đứng 2 7 phần_trăm giúp tôi',\n",
              " 'chào bạn kiểm_soát được bóng downlight 2 ở phòng ngủ con trai 5 trong nhà không',\n",
              " 'làm_ơn hạ xuống đỡ đèn bếp 3 phần_trăm giúp tôi',\n",
              " 'làm_ơn giảm đỡ đèn rọi 16 phần_trăm giúp tôi',\n",
              " 'chào bạn kiểm_soát được quạt hút mùi thứ 1 ở garage trong nhà không',\n",
              " 'bạn chỉnh giúp kiểm_tra màn cuốn thứ 1 ở phòng họp gia_đình xem bật không nhé',\n",
              " 'bạn chỉnh giúp kiểm_tra đèn sân thứ 4 ở hè sau 5 xem bật không nhé',\n",
              " 'bóng hắt tường phòng ngủ các con 4 còn bật cập_nhật',\n",
              " 'bạn chỉnh giúp kiểm_tra loa còi ở phòng sách 1 xem bật không nhé',\n",
              " 'bóng 2 phòng ngủ 5 đang tắt kiểm_tra',\n",
              " 'bạn chỉnh giúp kiểm_tra bóng trang_trí thứ 2 ở quầy lễ_tân xem bật không nhé',\n",
              " 'bóng vách 1 nhà giữ đồ còn tắt đúng không',\n",
              " 'bạn chỉnh giúp kiểm_tra đèn nhiều màu 3 ở gara xem bật không nhé',\n",
              " 'bóng ốp trần thứ 1 phòng ăn sáng đang mở hay đóng bao_nhiêu',\n",
              " 'đèn sân phòng dành cho nữ chưa đóng quét',\n",
              " 'giúp tôi tăng độ sáng phòng ngủ con 1 lên mức 4 luôn nhé',\n",
              " 'trợ_lý giúp mình tăng mức_độ đèn học 4 lên mức 3 ở phòng số 5 nhé',\n",
              " 'cài_đặt đèn học thứ 4 phòng sau vườn 69 phần_trăm',\n",
              " 'tăng lên đèn compact 2 trên phòng 3 thêm 15 phần_trăm',\n",
              " 'cho mình tăng rgb lên 18 phần_trăm ở phòng phòng thờ 7 với',\n",
              " 'tăng lên màn cửa đơn thứ 2 trên phòng 4 thêm 20 phần_trăm',\n",
              " 'cho mình tăng động_cơ thứ 3 lên 16 phần_trăm ở phòng đại_sảnh 3 với',\n",
              " 'cho mình tăng flash lên 24 phần_trăm ở phòng khách 4 5 với',\n",
              " 'bạn tăng hộ mình bóng tường ở phòng chờ 2 nhé',\n",
              " 'tăng đến đèn ngủ 1 trên 4 thêm 20 phần_trăm',\n",
              " 'tiếp_tục hạ thấp bóng ngủ thứ 2 thêm 1 mức nữa',\n",
              " 'tiếp_tục giảm đi đèn sân thêm 2 mức nữa',\n",
              " 'chào bạn bạn có_thể giúp mình giảm nóng lạnh thứ 2 2 về mức 2 được không',\n",
              " 'giảm rèm đơn 2 về mức 1 giúp tôi với',\n",
              " 'tiếp_tục giảm đi đèn trần thêm 1 mức nữa',\n",
              " 'giảm đèn đứng 4 về mức 3 giúp tôi với',\n",
              " 'giảm ốp tường xuống mức 5 hộ mình với',\n",
              " 'chào bạn bạn có_thể giúp mình giảm đèn thả 3 2 về mức 2 được không',\n",
              " 'chào bạn bạn có_thể giúp mình giảm đèn làm_việc 4 2 về mức 2 được không',\n",
              " 'giảm rèm thứ 2 xuống mức 4 hộ mình với',\n",
              " 'chào bạn bạn có_thể giúp mình giảm đèn sưởi thứ 2 4 về mức 2 được không',\n",
              " 'chào bạn bạn có_thể giúp mình giảm ốp trần 3 2 về mức 2 được không',\n",
              " 'tiếp_tục hạ thấp bóng 1 thêm 3 mức nữa',\n",
              " 'tiếp_tục giảm bóng sợi đốt thêm 3 mức nữa',\n",
              " 'bạn chuyển cái đèn treo tường sang tía cho mình',\n",
              " 'bạn chuyển cái đèn tròn thứ 1 sang màu lam cho mình',\n",
              " 'bạn chuyển cái đèn trang_trí 2 sang xám cho mình',\n",
              " 'để tvs thứ 4 màu trắng',\n",
              " 'để điện thứ 2 màu hồng',\n",
              " 'bạn có_thể giúp mình chuyển màu của đèn hắt tường 2 trong lễ_tân được không',\n",
              " 'khởi chạy tất_cả ti_vi thứ 1 màu nâu',\n",
              " 'bạn chuyển cái đèn flash thứ 1 sang màu xanh lá cho mình',\n",
              " 'để đèn cổng thứ 1 màu màu cam',\n",
              " 'để van nước thứ 4 màu màu xám',\n",
              " 'bạn chuyển cái tivi 1 sang xanh lá cho mình',\n",
              " 'để rèm cửa 2 màu màu cam',\n",
              " 'bật giúp mình đèn âm trần thứ 3 với',\n",
              " 'bật bóng rủ ở phòng_thí_nghiệm ở mức 2',\n",
              " 'bật giúp mình bóng đứng thứ 2 với',\n",
              " 'bật giúp mình bóng led 3 với',\n",
              " 'bật giúp mình mành thứ 3 với',\n",
              " 'bật giúp mình đèn với',\n",
              " 'đèn downlight 4 trong sảnh đặt số 1',\n",
              " 'bật đèn tranh thứ 3 đi cái',\n",
              " 'tôi muốn tắt màn cửa đơn 2',\n",
              " 'tôi muốn tắt loa',\n",
              " 'tôi muốn tắt đèn cây',\n",
              " 'tôi muốn tắt bóng làm_việc 1',\n",
              " 'tôi muốn tắt công_tắc']"
            ]
          },
          "metadata": {},
          "execution_count": 83
        }
      ]
    }
  ],
  "metadata": {
    "kernelspec": {
      "display_name": "Python 3 (ipykernel)",
      "language": "python",
      "name": "python3"
    },
    "language_info": {
      "codemirror_mode": {
        "name": "ipython",
        "version": 3
      },
      "file_extension": ".py",
      "mimetype": "text/x-python",
      "name": "python",
      "nbconvert_exporter": "python",
      "pygments_lexer": "ipython3",
      "version": "3.9.0"
    },
    "colab": {
      "provenance": []
    }
  },
  "nbformat": 4,
  "nbformat_minor": 5
}