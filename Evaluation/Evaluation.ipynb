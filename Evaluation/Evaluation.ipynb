{
 "cells": [
  {
   "cell_type": "markdown",
   "id": "cad38964-4989-4f22-b7cf-ae95bf759989",
   "metadata": {},
   "source": [
    "# Evaluation"
   ]
  },
  {
   "cell_type": "code",
   "execution_count": 1,
   "id": "33b2c778-dda6-42f8-9dca-5c411eb392e2",
   "metadata": {},
   "outputs": [],
   "source": [
    "import numpy as np\n",
    "import pandas as pd\n",
    "import matplotlib.pyplot as plt\n",
    "import os\n",
    "import regex as re"
   ]
  },
  {
   "cell_type": "code",
   "execution_count": 2,
   "id": "5b44bcef-ab17-477f-bdac-a0674ee3b4de",
   "metadata": {},
   "outputs": [],
   "source": [
    "# Nhập dữ liệu\n",
    "with open('seq.out', 'r', encoding= 'utf-8') as file:\n",
    "    out_lines = file.readlines()\n",
    "    file.close()\n",
    "\n",
    "with open('seq_test.out', 'r', encoding= 'utf-8') as file:\n",
    "    test_lines = file.readlines()\n",
    "    file.close()"
   ]
  },
  {
   "cell_type": "code",
   "execution_count": 8,
   "id": "d285c8f6-9e33-4687-a9e8-9d05826dfff2",
   "metadata": {},
   "outputs": [
    {
     "data": {
      "text/plain": [
       "(893, 893)"
      ]
     },
     "execution_count": 8,
     "metadata": {},
     "output_type": "execute_result"
    }
   ],
   "source": [
    "# Số samples trong bộ test\n",
    "len(out_lines), len(test_lines)"
   ]
  },
  {
   "cell_type": "code",
   "execution_count": 9,
   "id": "09211ef3-e847-4df9-870f-017887fec63f",
   "metadata": {},
   "outputs": [],
   "source": [
    "# Chuẩn hóa\n",
    "out_lines = [x.strip() for x in out_lines]\n",
    "test_lines = [x.strip() for x in test_lines]"
   ]
  },
  {
   "cell_type": "code",
   "execution_count": 10,
   "id": "a59a8007-f9a1-401a-9bc5-75b8eebca4e4",
   "metadata": {},
   "outputs": [
    {
     "data": {
      "text/plain": [
       "'O O O O O O O B-fromloc.city_name O B-toloc.city_name O O O O O O B-stoploc.city_name'"
      ]
     },
     "execution_count": 10,
     "metadata": {},
     "output_type": "execute_result"
    }
   ],
   "source": [
    "out_lines[0]"
   ]
  },
  {
   "cell_type": "code",
   "execution_count": 11,
   "id": "842ddce9-e592-4385-9ca3-6fcd60b20502",
   "metadata": {},
   "outputs": [
    {
     "data": {
      "text/plain": [
       "'<flight> -> tôi muốn tìm một chuyến bay từ [đà_nẵng:B-fromloc.city_name] đến [phú_quốc:B-toloc.city_name] và có một trạm dừng ở [cam_ranh:B-stoploc.city_name]'"
      ]
     },
     "execution_count": 11,
     "metadata": {},
     "output_type": "execute_result"
    }
   ],
   "source": [
    "test_lines[0]"
   ]
  },
  {
   "cell_type": "code",
   "execution_count": 17,
   "id": "11905a79-eb57-47fe-8609-5a9e6eb6f168",
   "metadata": {},
   "outputs": [],
   "source": [
    "# Chuyển định dạng\n",
    "def test2out(test_line):\n",
    "    words = test_line.split()\n",
    "    intent = words[0]\n",
    "    words = words[2:]\n",
    "    str = []\n",
    "    for word in words:\n",
    "        if word[0] != '[':\n",
    "            str.append('O')\n",
    "        else:\n",
    "            info = word[1:-1]\n",
    "            str.append(info.split(':')[-1])\n",
    "    slots = ' '.join(str)\n",
    "    return intent, slots"
   ]
  },
  {
   "cell_type": "code",
   "execution_count": 20,
   "id": "6d850d97-86c5-4ac2-b59b-fba91a58aa44",
   "metadata": {},
   "outputs": [
    {
     "data": {
      "text/plain": [
       "'O O O O O O O B-fromloc.city_name O B-toloc.city_name O O O O O O B-stoploc.city_name'"
      ]
     },
     "execution_count": 20,
     "metadata": {},
     "output_type": "execute_result"
    }
   ],
   "source": [
    "# Kiểm tra\n",
    "intent, slots = test2out(test_lines[0])\n",
    "slots"
   ]
  },
  {
   "cell_type": "code",
   "execution_count": 21,
   "id": "44360107-488e-4ad3-9f80-29454df63cb6",
   "metadata": {},
   "outputs": [
    {
     "data": {
      "text/plain": [
       "'O O O O O O O B-fromloc.city_name O B-toloc.city_name O O O O O O B-stoploc.city_name'"
      ]
     },
     "execution_count": 21,
     "metadata": {},
     "output_type": "execute_result"
    }
   ],
   "source": [
    "out_lines[0]"
   ]
  },
  {
   "cell_type": "code",
   "execution_count": 27,
   "id": "ab685da3-7925-4ef0-b1be-b6d4f3a724c9",
   "metadata": {},
   "outputs": [],
   "source": [
    "# Ghi file\n",
    "outpath = 'slot_diff.txt'\n",
    "lines = ['id||seq_test||seq_out\\n']\n",
    "\n",
    "for i in range(len(out_lines)):\n",
    "    intent, slots = test2out(test_lines[i])\n",
    "    if slots != out_lines[i]:\n",
    "        lines.append('||'.join([str(i), slots, out_lines[i]]) + '\\n')\n",
    "\n",
    "with open(outpath, 'w', encoding= 'utf-8') as file:\n",
    "    file.writelines(lines)\n",
    "    file.close()"
   ]
  },
  {
   "cell_type": "code",
   "execution_count": 44,
   "id": "db059e98-8f2f-4f48-8fc8-099acdacd9bb",
   "metadata": {},
   "outputs": [
    {
     "data": {
      "text/plain": [
       "{'B-toloc.city_name||B-city_name': 18,\n",
       " 'I-fromloc.airport_name||I-airport_name': 18,\n",
       " 'I-toloc.city_name||I-city_name': 12,\n",
       " 'B-fromloc.airport_name||B-airport_name': 11,\n",
       " 'B-city_name||B-state_name': 6,\n",
       " 'B-flight_number||I-aircraft_code': 6,\n",
       " 'B-aircraft_code||I-aircraft_code': 5,\n",
       " 'O||B-flight_mod': 5,\n",
       " 'B-flight_mod||I-flight_mod': 5,\n",
       " 'B-fromloc.airport_code||B-airport_code': 4,\n",
       " 'B-mod||O': 4,\n",
       " 'B-fromloc.city_name||B-fromloc.airport_name': 4,\n",
       " 'I-depart_time.time||I-arrive_time.time': 4,\n",
       " 'B-fromloc.city_name||B-city_name': 4,\n",
       " 'I-arrive_date.day_number||I-depart_date.day_number': 3,\n",
       " 'I-city_name||B-state_name': 3,\n",
       " 'B-toloc.city_name||B-toloc.state_name': 3,\n",
       " 'B-fromloc.state_name||I-fromloc.state_name': 2,\n",
       " 'B-airline_name||O': 2,\n",
       " 'I-airline_name||B-airline_name': 2,\n",
       " 'B-arrive_date.day_name||B-depart_date.day_name': 2,\n",
       " 'B-depart_time.time||B-arrive_time.time': 2,\n",
       " 'I-depart_date.day_number||I-arrive_date.day_number': 2,\n",
       " 'B-arrive_date.month_name||B-depart_date.month_name': 2,\n",
       " 'B-airline_code||B-aircraft_code': 2,\n",
       " 'I-arrive_date.month_name||I-depart_date.month_name': 2,\n",
       " 'B-arrive_date.day_number||B-depart_date.day_number': 2,\n",
       " 'B-airline_code||B-airport_code': 2,\n",
       " 'B-fromloc.city_name||B-fromloc.airport_code': 2,\n",
       " 'B-arrive_time.time||B-depart_time.period_of_day': 1,\n",
       " 'B-fromloc.state_name||B-state_name': 1,\n",
       " 'O||B-mod': 1,\n",
       " 'I-depart_date.day_name||I-day_name': 1,\n",
       " 'I-airline_name||O': 1,\n",
       " 'B-depart_date.day_number||B-arrive_date.day_number': 1,\n",
       " 'O||B-depart_date.today_relative': 1,\n",
       " 'B-depart_date.month_name||B-arrive_date.month_name': 1,\n",
       " 'B-depart_date.day_name||B-arrive_date.day_name': 1,\n",
       " 'O||B-connect': 1,\n",
       " 'B-stoploc.city_name||B-stoploc.airport_code': 1,\n",
       " 'B-city_name||B-toloc.city_name': 1,\n",
       " 'B-toloc.state_name||I-toloc.city_name': 1,\n",
       " 'O||B-round_trip': 1,\n",
       " 'B-depart_date.day_name||B-day_name': 1,\n",
       " 'B-airport_code||B-mod': 1,\n",
       " 'I-city_name||B-days_code': 1,\n",
       " 'B-fromloc.city_name||B-airport_code': 1,\n",
       " 'I-arrive_time.period_of_day||I-depart_time.period_of_day': 1,\n",
       " 'B-connect||I-fromloc.state_name': 1,\n",
       " 'I-flight_stop||I-cost_relative': 1,\n",
       " 'B-depart_date.today_relative||I-depart_date.today_relative': 1,\n",
       " 'B-toloc.city_name||B-toloc.airport_code': 1,\n",
       " 'O||B-cost_relative': 1,\n",
       " 'B-stoploc.city_name||B-toloc.city_name': 1,\n",
       " 'B-airport_code||B-aircraft_code': 1,\n",
       " 'B-toloc.city_name||B-toloc.airport_name': 1,\n",
       " 'I-meal||O': 1,\n",
       " 'I-meal_description||I-flight_mod': 1,\n",
       " 'I-fromloc.city_name||I-fromloc.airport_name': 1,\n",
       " 'B-arrive_time.period_of_day||B-period_of_day': 1,\n",
       " 'O||I-airline_name': 1,\n",
       " 'I-arrive_time.time||I-depart_time.period_of_day': 1,\n",
       " 'B-arrive_time.time_relative||I-arrive_time.time_relative': 1,\n",
       " 'B-depart_date.date_relative||B-arrive_date.date_relative': 1,\n",
       " 'B-fromloc.state_name||B-toloc.city_name': 1,\n",
       " 'O||B-airline_name': 1,\n",
       " 'I-flight_mod||O': 1,\n",
       " 'B-flight_mod||B-depart_time.time_relative': 1,\n",
       " 'I-depart_time.time_relative||I-cost_relative': 1,\n",
       " 'B-economy||B-compartment': 1,\n",
       " 'B-flight_number||I-flight_number': 1,\n",
       " 'I-fromloc.city_name||B-city_name': 1,\n",
       " 'B-fare_basis_code||B-booking_class': 1,\n",
       " 'seq_test||seq_out': 1,\n",
       " 'B-arrive_time.period_of_day||B-depart_time.period_of_day': 1,\n",
       " 'B-toloc.state_name||B-toloc.country_name': 1,\n",
       " 'I-city_name||I-state_name': 1,\n",
       " 'B-arrive_time.period_mod||I-period_of_day': 1,\n",
       " 'I-arrive_date.day_name||I-day_name': 1,\n",
       " 'B-meal||O': 1,\n",
       " 'B-flight_mod||B-depart_time.period_mod': 1,\n",
       " 'B-arrive_date.day_name||B-return_date.day_name': 1,\n",
       " 'I-depart_date.day_name||B-depart_date.day_name': 1,\n",
       " 'I-fromloc.city_name||B-fromloc.state_name': 1,\n",
       " 'I-fromloc.city_name||I-airport_name': 1,\n",
       " 'B-toloc.state_name||I-city_name': 1,\n",
       " 'I-flight_mod||I-arrive_time.time_relative': 1,\n",
       " 'I-depart_date.month_name||I-arrive_date.month_name': 1,\n",
       " 'B-depart_time.time_relative||B-arrive_time.time_relative': 1,\n",
       " 'B-flight_mod||O': 1,\n",
       " 'I-return_date.day_number||B-return_date.day_name': 1,\n",
       " 'B-fromloc.city_name||B-fromloc.state_name': 1,\n",
       " 'I-arrive_date.day_name||I-return_date.day_name': 1,\n",
       " 'B-fromloc.city_name||O': 1,\n",
       " 'B-airport_code||B-airline_code': 1,\n",
       " 'B-fare_basis_code||B-city_name': 1,\n",
       " 'I-toloc.airport_name||I-toloc.city_name': 1,\n",
       " 'B-airline_name||I-airline_name': 1}"
      ]
     },
     "execution_count": 44,
     "metadata": {},
     "output_type": "execute_result"
    }
   ],
   "source": [
    "# Các lỗi gặp phải\n",
    "diffs = []\n",
    "for line in lines:\n",
    "    words = [x.strip() for x in line.split('||')]\n",
    "    test = words[1].split()\n",
    "    out = words[2].split()\n",
    "    \n",
    "    for i in range(len(test)):\n",
    "        if test[i] != out[i]:\n",
    "            diffs.append(f'{test[i]}||{out[i]}')\n",
    "\n",
    "diffs = {i:diffs.count(i) for i in set(diffs)}\n",
    "diffs = dict(sorted(diffs.items(), key=lambda item: -item[1]))\n",
    "diffs # test||out"
   ]
  }
 ],
 "metadata": {
  "kernelspec": {
   "display_name": "Python 3 (ipykernel)",
   "language": "python",
   "name": "python3"
  },
  "language_info": {
   "codemirror_mode": {
    "name": "ipython",
    "version": 3
   },
   "file_extension": ".py",
   "mimetype": "text/x-python",
   "name": "python",
   "nbconvert_exporter": "python",
   "pygments_lexer": "ipython3",
   "version": "3.9.0"
  }
 },
 "nbformat": 4,
 "nbformat_minor": 5
}
